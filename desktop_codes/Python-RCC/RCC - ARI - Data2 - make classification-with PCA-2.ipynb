{
 "cells": [
  {
   "cell_type": "markdown",
   "metadata": {},
   "source": [
    "## RCC implementation in Python. "
   ]
  },
  {
   "cell_type": "code",
   "execution_count": 22,
   "metadata": {},
   "outputs": [],
   "source": [
    "import math\n",
    "import glob\n",
    "\n",
    "import pandas as pd\n",
    "import numpy as np\n",
    "import scipy.sparse\n",
    "import scipy.sparse.linalg\n",
    "\n",
    "from scipy.sparse import csr_matrix, triu, find\n",
    "from scipy.sparse.csgraph import minimum_spanning_tree, connected_components\n",
    "from scipy.spatial import distance\n",
    "from matplotlib import pyplot as plt\n",
    "from sklearn.datasets import make_classification\n",
    "from sklearn import metrics\n",
    "from numpy import unique\n",
    "from numpy import where\n",
    "from sklearn.preprocessing import StandardScaler\n",
    "from sklearn.decomposition import PCA\n",
    "from sklearn.metrics.cluster import adjusted_mutual_info_score "
   ]
  },
  {
   "cell_type": "code",
   "execution_count": 2,
   "metadata": {},
   "outputs": [],
   "source": [
    "class RccCluster:\n",
    "    \"\"\"\n",
    "    Computes a clustering following: Robust continuous clustering, (Shaha and Koltunb, 2017).\n",
    "    The interface is based on the sklearn.cluster module.\n",
    "    Parameters\n",
    "    ----------\n",
    "    k (int) number of neighbors for each sample in X\n",
    "    measure (string) distance metric, one of 'cosine' or 'euclidean'\n",
    "    clustering_threshold (float) threshold to assign points together in a cluster. Higher means fewer larger clusters\n",
    "    eps (float) numerical epsilon used for computation\n",
    "    verbose (boolean) verbosity\n",
    "    \"\"\"\n",
    "\n",
    "    def __init__(self, k=10, measure='euclidean', clustering_threshold=1., eps=1e-5, verbose=True):\n",
    "\n",
    "        self.k = k\n",
    "        self.measure = measure\n",
    "        self.clustering_threshold = clustering_threshold\n",
    "        self.eps = eps\n",
    "        self.verbose = verbose\n",
    "\n",
    "        self.labels_ = None\n",
    "        self.U = None\n",
    "        self.i = None\n",
    "        self.j = None\n",
    "        self.n_samples = None\n",
    "        print(\"\\n value of k is \\n\", k)\n",
    "\n",
    "    def compute_assignment(self, epsilon):\n",
    "        \"\"\"\n",
    "        Assigns points to clusters based on their representative. Two points are part of the same cluster if their\n",
    "        representative are close enough (their squared euclidean distance is < delta)\n",
    "        \"\"\"\n",
    "        diff = np.sum((self.U[self.i, :] - self.U[self.j, :])**2, axis=1)\n",
    "\n",
    "        # computing connected components.\n",
    "        is_conn = np.sqrt(diff) <= self.clustering_threshold*epsilon\n",
    "\n",
    "        G = scipy.sparse.coo_matrix((np.ones((2*np.sum(is_conn),)),\n",
    "                                     (np.concatenate([self.i[is_conn], self.j[is_conn]], axis=0),\n",
    "                                      np.concatenate([self.j[is_conn], self.i[is_conn]], axis=0))),\n",
    "                                    shape=[self.n_samples, self.n_samples])\n",
    "\n",
    "        num_components, labels = connected_components(G, directed=False)\n",
    "        \n",
    "#        print(\"\\n number of componenets given by connected_components function \\n\", num_components)\n",
    "\n",
    "        return labels, num_components\n",
    "\n",
    "    @staticmethod\n",
    "    def geman_mcclure(data, mu):\n",
    "        \"\"\"\n",
    "        Geman McClure function. See Bayesian image analysis. An application to single photon emission tomography (1985).\n",
    "        Parameters\n",
    "        ----------\n",
    "        data (array) 2d numpy array of data\n",
    "        mu (float) scale parameter\n",
    "        \"\"\"\n",
    "        return (mu / (mu + np.sum(data**2, axis=1)))**2\n",
    "\n",
    "    def compute_obj(self, X, U, lpq, i, j, lambda_, mu, weights, iter_num):\n",
    "        \"\"\"\n",
    "        Computes the value of the objective function.\n",
    "        Parameters\n",
    "        ----------\n",
    "        X (array) data points, 2d numpy array of shape (n_features, n_clusters)\n",
    "        U (int) representative points, 2d numpy array of shape (n_features, n_clusters)\n",
    "        lpq (array) penalty term on the connections\n",
    "        i (array) first slice of w, used for convenience\n",
    "        j (array) second slice of w, used for convenience\n",
    "        lambda_ (float) term balancing the contributions of the losses\n",
    "        mu (float) scale parameter\n",
    "        weights (array) weights of the connections\n",
    "        iter_num (int) current iteration, only used for printing to screen if verbose=True\n",
    "        \"\"\"\n",
    "\n",
    "        # computing the objective as in equation [2]\n",
    "        data = 0.5 * np.sum(np.sum((X - U)**2))\n",
    "        diff = np.sum((U[i, :] - U[j, :])**2, axis=1)\n",
    "        smooth = lambda_ * 0.5 * (np.inner(lpq*weights, diff) + mu *\n",
    "                                  np.inner(weights, (np.sqrt(lpq + self.eps)-1)**2))\n",
    "\n",
    "        # final objective\n",
    "        obj = data + smooth\n",
    "        if self.verbose:\n",
    "#            print(' {} | {} | {} | {}'.format(iter_num, data, smooth, obj))\n",
    "            pass\n",
    "\n",
    "        return obj\n",
    "\n",
    "    @staticmethod\n",
    "    def m_knn(X, k, measure='euclidean'):\n",
    "        \"\"\"\n",
    "        This code is taken from:\n",
    "        https://bitbucket.org/sohilas/robust-continuous-clustering/src/\n",
    "        The original terms of the license apply.\n",
    "        Construct mutual_kNN for large scale dataset\n",
    "        If j is one of i's closest neighbors and i is also one of j's closest members,\n",
    "        the edge will appear once with (i,j) where i < j.\n",
    "        Parameters\n",
    "        ----------\n",
    "        X (array) 2d array of data of shape (n_samples, n_dim)\n",
    "        k (int) number of neighbors for each sample in X\n",
    "        measure (string) distance metric, one of 'cosine' or 'euclidean'\n",
    "        \"\"\"\n",
    "\n",
    "        samples = X.shape[0]\n",
    "        batch_size = 10000\n",
    "        b = np.arange(k+1)\n",
    "        b = tuple(b[1:].ravel())\n",
    "\n",
    "        z = np.zeros((samples, k))\n",
    "        weigh = np.zeros_like(z)\n",
    "\n",
    "        # This loop speeds up the computation by operating in batches\n",
    "        # This can be parallelized to further utilize CPU/GPU resource\n",
    "\n",
    "        for x in np.arange(0, samples, batch_size):\n",
    "            start = x\n",
    "            end = min(x+batch_size, samples)\n",
    "\n",
    "            w = distance.cdist(X[start:end], X, measure)\n",
    "\n",
    "            y = np.argpartition(w, b, axis=1)\n",
    "\n",
    "            z[start:end, :] = y[:, 1:k + 1]\n",
    "            weigh[start:end, :] = np.reshape(w[tuple(np.repeat(np.arange(end-start), k)),\n",
    "                                               tuple(y[:, 1:k+1].ravel())], (end-start, k))\n",
    "            del w\n",
    "\n",
    "        ind = np.repeat(np.arange(samples), k)\n",
    "\n",
    "        P = csr_matrix((np.ones((samples*k)), (ind.ravel(), z.ravel())), shape=(samples, samples))\n",
    "        Q = csr_matrix((weigh.ravel(), (ind.ravel(), z.ravel())), shape=(samples, samples))\n",
    "\n",
    "        Tcsr = minimum_spanning_tree(Q)\n",
    "        P = P.minimum(P.transpose()) + Tcsr.maximum(Tcsr.transpose())\n",
    "        P = triu(P, k=1)\n",
    "\n",
    "        V = np.asarray(find(P)).T\n",
    "        return V[:, :2].astype(np.int32)\n",
    "\n",
    "    def run_rcc(self, X, w, max_iter=100, inner_iter=4):\n",
    "        \"\"\"\n",
    "        Main function for computing the clustering.\n",
    "        Parameters\n",
    "        ----------\n",
    "        X (array) 2d array of data of shape (n_samples, n_dim).\n",
    "        w (array) weights for each edge, as computed by the mutual knn clustering.\n",
    "        max_iter (int) maximum number of iterations to run the algorithm.\n",
    "        inner_iter (int) number of inner iterations. 4 works well in most cases.\n",
    "        \"\"\"\n",
    "\n",
    "        X = X.astype(np.float32)  # features stacked as N x D (D is the dimension)\n",
    "\n",
    "        w = w.astype(np.int32)  # list of edges represented by start and end nodes\n",
    "        assert w.shape[1] == 2\n",
    "\n",
    "        # slice w for convenience\n",
    "        i = w[:, 0]\n",
    "        j = w[:, 1]\n",
    "\n",
    "        # initialization\n",
    "        n_samples, n_features = X.shape\n",
    "\n",
    "        n_pairs = w.shape[0]\n",
    "\n",
    "        # precomputing xi\n",
    "        xi = np.linalg.norm(X, 2)\n",
    "\n",
    "        # set the weights as given in equation [S1] (supplementary information), making sure to exploit the data\n",
    "        # sparsity\n",
    "        R = scipy.sparse.coo_matrix((np.ones((i.shape[0]*2,)),\n",
    "                                     (np.concatenate([i, j], axis=0),\n",
    "                                      np.concatenate([j, i], axis=0))), shape=[n_samples, n_samples])\n",
    "\n",
    "        # number of connections\n",
    "        n_conn = np.sum(R, axis=1)\n",
    "\n",
    "        # make sure to convert back to a numpy array from a numpy matrix, since the output of the sum() operation on a\n",
    "        # sparse matrix is a numpy matrix\n",
    "        n_conn = np.asarray(n_conn)\n",
    "\n",
    "        # equation [S1]\n",
    "        weights = np.mean(n_conn) / np.sqrt(n_conn[i]*n_conn[j])\n",
    "        weights = weights[:, 0]  # squueze out the unnecessary dimension\n",
    "\n",
    "        # initializing the representatives U to have the same value as X\n",
    "        U = X.copy()\n",
    "\n",
    "        # initialize lpq to 1, that is all connections are active\n",
    "        # lpq is a penalty term on the connections\n",
    "        lpq = np.ones((i.shape[0],))\n",
    "\n",
    "        # compute delta and mu, see SI for details\n",
    "        epsilon = np.sqrt(np.sum((X[i, :] - X[j, :])**2 + self.eps, axis=1))\n",
    "\n",
    "        # Note: suppress low values. This hard coded threshold could lead to issues with very poorly normalized data.\n",
    "        epsilon[epsilon/np.sqrt(n_features) < 1e-2] = np.max(epsilon)\n",
    "\n",
    "        epsilon = np.sort(epsilon)\n",
    "\n",
    "        # compute mu, see section Graduated Nonconvexity in the SI\n",
    "        mu = 3.0 * epsilon[-1]**2\n",
    "\n",
    "        # take the top 1% of the closest neighbours as a heuristic\n",
    "        top_samples = np.minimum(250.0, math.ceil(n_pairs*0.01))\n",
    "\n",
    "        delta = np.mean(epsilon[:int(top_samples)])\n",
    "        epsilon = np.mean(epsilon[:int(math.ceil(n_pairs*0.01))])\n",
    "\n",
    "        # computation of matrix A = D-R (here D is the diagonal matrix and R is the symmetric matrix), see equation (8)\n",
    "\n",
    "        R = scipy.sparse.coo_matrix((np.concatenate([weights*lpq, weights*lpq], axis=0),\n",
    "                                     (np.concatenate([i,j],axis=0), np.concatenate([j,i],axis=0))),\n",
    "                                    shape=[n_samples, n_samples])\n",
    "\n",
    "        D = scipy.sparse.coo_matrix((np.squeeze(np.asarray(np.sum(R,axis=1))),\n",
    "                                     ((range(n_samples), range(n_samples)))),\n",
    "                                    (n_samples, n_samples))\n",
    "\n",
    "        # initial computation of lambda (lambda is a reserved keyword in python)\n",
    "        # note: compute the largest magnitude eigenvalue instead of the matrix norm as it is faster to compute\n",
    "\n",
    "        eigval = scipy.sparse.linalg.eigs(D-R, k=1, return_eigenvectors=False).real\n",
    "\n",
    "        # lambda is a reserved keyword in python, so we use lambda_. Calculate lambda as per equation 9.\n",
    "        lambda_ = xi / eigval[0]\n",
    "\n",
    "        if self.verbose:\n",
    "            print('mu = {}, lambda = {}, epsilon = {}, delta = {}'.format(mu, lambda_, epsilon, delta))\n",
    "            print(' Iter | Data \\t | Smooth \\t | Obj \\t')    \n",
    "\n",
    "        # pre-allocate memory for the values of the objective function\n",
    "        obj = np.zeros((max_iter,))\n",
    "\n",
    "        inner_iter_count = 0\n",
    "\n",
    "        # start of optimization phase\n",
    "\n",
    "        for iter_num in range(1, max_iter):\n",
    "\n",
    "            # update lpq. Equation 5.\n",
    "            lpq = self.geman_mcclure(U[i, :]-U[j, :], mu)\n",
    "\n",
    "            # compute objective. Equation 6.\n",
    "            obj[iter_num] = self.compute_obj(X, U, lpq, i, j, lambda_, mu, weights, iter_num)\n",
    "            \n",
    "            # update U. Equation 7. For efficiency we form sparse matrices R and D separately, then combine them.\n",
    "\n",
    "            R = scipy.sparse.coo_matrix((np.concatenate([weights*lpq, weights*lpq], axis=0),\n",
    "                                         (np.concatenate([i,j],axis=0), np.concatenate([j,i],axis=0))),\n",
    "                                        shape=[n_samples, n_samples])\n",
    "\n",
    "            D = scipy.sparse.coo_matrix((np.asarray(np.sum(R, axis=1))[:, 0], ((range(n_samples), range(n_samples)))),\n",
    "                                        shape=(n_samples, n_samples))\n",
    "\n",
    "            M = scipy.sparse.eye(n_samples) + lambda_ * (D-R)\n",
    "\n",
    "            # Solve for U. This could be further optimised through appropriate preconditioning.\n",
    "            U = scipy.sparse.linalg.spsolve(M, X)\n",
    "          \n",
    "            # check for stopping criteria\n",
    "            inner_iter_count += 1\n",
    "\n",
    "            # check for the termination conditions and modulate delta if necessary.\n",
    "            if (abs(obj[iter_num-1]-obj[iter_num]) < 1e-1) or inner_iter_count == inner_iter:\n",
    "                if mu >= delta:\n",
    "                    mu /= 2.0\n",
    "                elif inner_iter_count == inner_iter:\n",
    "                    mu = 0.5 * delta\n",
    "                else:\n",
    "                    break\n",
    "\n",
    "                eigval = scipy.sparse.linalg.eigs(D-R, k=1, return_eigenvectors=False).real\n",
    "                lambda_ = xi / eigval[0]\n",
    "                inner_iter_count = 0\n",
    "\n",
    "        # at the end of the run, assign values to the class members.\n",
    "        self.U = U.copy()\n",
    "        self.i = i\n",
    "        self.j = j\n",
    "        self.n_samples = n_samples\n",
    "        C, num_components = self.compute_assignment(epsilon)\n",
    "\n",
    "        return U, C\n",
    "\n",
    "    def fit(self, X):\n",
    "        \"\"\"\n",
    "        Computes the clustering and returns the labels\n",
    "        Parameters\n",
    "        ----------\n",
    "        X (array) numpy array of data to cluster with shape (n_samples, n_features)\n",
    "        \"\"\"\n",
    "\n",
    "        assert type(X) == np.ndarray\n",
    "        assert len(X.shape) == 2\n",
    "\n",
    "        # compute the mutual knn graph\n",
    "        mknn_matrix = self.m_knn(X, self.k, measure=self.measure)\n",
    "\n",
    "        # perform the RCC clustering\n",
    "        U, C = self.run_rcc(X, mknn_matrix)\n",
    "\n",
    "        # store the class labels in the appropriate class member to match the sklearn.cluster interface\n",
    "        self.labels_ = C.copy()\n",
    "\n",
    "        # return the computed labels\n",
    "        return self.labels_"
   ]
  },
  {
   "cell_type": "code",
   "execution_count": 14,
   "metadata": {},
   "outputs": [
    {
     "name": "stdout",
     "output_type": "stream",
     "text": [
      "\n",
      " value of k is \n",
      " 5\n",
      "mu = 1413.184203277342, lambda = 54.68738914469351, epsilon = 18.621135711669922, delta = 18.621135711669922\n",
      " Iter | Data \t | Smooth \t | Obj \t\n"
     ]
    }
   ],
   "source": [
    "D     = pd.read_csv('sim_h_l1.csv')\n",
    "X     = D.to_numpy()\n",
    "model = RccCluster(k = 5, clustering_threshold = 1)\n",
    "model.fit(X)\n",
    "labels_pred = model.labels_"
   ]
  },
  {
   "cell_type": "code",
   "execution_count": 24,
   "metadata": {},
   "outputs": [
    {
     "name": "stdout",
     "output_type": "stream",
     "text": [
      "[0 1 2 3]\n",
      "'\n",
      "' Adjusted_Rand_Index '\n",
      "' 1.0\n",
      "'\n",
      "' Adjusted_Mutual_Information '\n",
      "' 1.0\n"
     ]
    },
    {
     "name": "stderr",
     "output_type": "stream",
     "text": [
      "/Users/srahman/opt/anaconda3/lib/python3.7/site-packages/sklearn/metrics/cluster/supervised.py:746: FutureWarning: The behavior of AMI will change in version 0.22. To match the behavior of 'v_measure_score', AMI will use average_method='arithmetic' by default.\n",
      "  FutureWarning)\n"
     ]
    }
   ],
   "source": [
    "labels_true = np.concatenate((np.ones(20), 2*np.ones(20), 3*np.ones(20), 4*np.ones(20)), axis=None)\n",
    "\n",
    "print(np.unique(labels_pred))\n",
    "\n",
    "ari = metrics.adjusted_rand_score(labels_true, labels_pred)\n",
    "print(\"'\\n' Adjusted_Rand_Index '\\n'\", ari)\n",
    "\n",
    "ami = adjusted_mutual_info_score(labels_true, labels_pred)\n",
    "print(\"'\\n' Adjusted_Mutual_Information '\\n'\", ami)"
   ]
  },
  {
   "cell_type": "code",
   "execution_count": null,
   "metadata": {},
   "outputs": [],
   "source": [
    "#for filename in glob.glob('data/gapminder_*.csv'):\n",
    "#    data = pd.read_csv(filename)\n",
    "#    print(filename, data['gdpPercap_1952'].min())"
   ]
  },
  {
   "cell_type": "code",
   "execution_count": 47,
   "metadata": {},
   "outputs": [
    {
     "name": "stdout",
     "output_type": "stream",
     "text": [
      "\n",
      " value of k is \n",
      " 5\n",
      "mu = 1540.7517282564477, lambda = 694.5520522161376, epsilon = 18.358196258544922, delta = 18.358196258544922\n",
      " Iter | Data \t | Smooth \t | Obj \t\n"
     ]
    },
    {
     "name": "stderr",
     "output_type": "stream",
     "text": [
      "/Users/srahman/opt/anaconda3/lib/python3.7/site-packages/sklearn/metrics/cluster/supervised.py:746: FutureWarning: The behavior of AMI will change in version 0.22. To match the behavior of 'v_measure_score', AMI will use average_method='arithmetic' by default.\n",
      "  FutureWarning)\n"
     ]
    },
    {
     "name": "stdout",
     "output_type": "stream",
     "text": [
      "\n",
      " value of k is \n",
      " 5\n",
      "mu = 1462.4189916433352, lambda = 728.3722354136376, epsilon = 18.35831069946289, delta = 18.35831069946289\n",
      " Iter | Data \t | Smooth \t | Obj \t\n"
     ]
    },
    {
     "name": "stderr",
     "output_type": "stream",
     "text": [
      "/Users/srahman/opt/anaconda3/lib/python3.7/site-packages/sklearn/metrics/cluster/supervised.py:746: FutureWarning: The behavior of AMI will change in version 0.22. To match the behavior of 'v_measure_score', AMI will use average_method='arithmetic' by default.\n",
      "  FutureWarning)\n"
     ]
    },
    {
     "name": "stdout",
     "output_type": "stream",
     "text": [
      "\n",
      " value of k is \n",
      " 5\n",
      "mu = 1517.7459469457972, lambda = 622.8310961065737, epsilon = 18.192218780517578, delta = 18.192218780517578\n",
      " Iter | Data \t | Smooth \t | Obj \t\n"
     ]
    },
    {
     "name": "stderr",
     "output_type": "stream",
     "text": [
      "/Users/srahman/opt/anaconda3/lib/python3.7/site-packages/sklearn/metrics/cluster/supervised.py:746: FutureWarning: The behavior of AMI will change in version 0.22. To match the behavior of 'v_measure_score', AMI will use average_method='arithmetic' by default.\n",
      "  FutureWarning)\n"
     ]
    },
    {
     "name": "stdout",
     "output_type": "stream",
     "text": [
      "\n",
      " value of k is \n",
      " 5\n",
      "mu = 1431.9359983785653, lambda = 670.5509353588535, epsilon = 18.30746841430664, delta = 18.30746841430664\n",
      " Iter | Data \t | Smooth \t | Obj \t\n"
     ]
    },
    {
     "name": "stderr",
     "output_type": "stream",
     "text": [
      "/Users/srahman/opt/anaconda3/lib/python3.7/site-packages/sklearn/metrics/cluster/supervised.py:746: FutureWarning: The behavior of AMI will change in version 0.22. To match the behavior of 'v_measure_score', AMI will use average_method='arithmetic' by default.\n",
      "  FutureWarning)\n"
     ]
    },
    {
     "name": "stdout",
     "output_type": "stream",
     "text": [
      "\n",
      " value of k is \n",
      " 5\n",
      "mu = 1442.3280500276014, lambda = 733.962751069894, epsilon = 18.22213363647461, delta = 18.22213363647461\n",
      " Iter | Data \t | Smooth \t | Obj \t\n"
     ]
    },
    {
     "name": "stderr",
     "output_type": "stream",
     "text": [
      "/Users/srahman/opt/anaconda3/lib/python3.7/site-packages/sklearn/metrics/cluster/supervised.py:746: FutureWarning: The behavior of AMI will change in version 0.22. To match the behavior of 'v_measure_score', AMI will use average_method='arithmetic' by default.\n",
      "  FutureWarning)\n"
     ]
    },
    {
     "name": "stdout",
     "output_type": "stream",
     "text": [
      "\n",
      " value of k is \n",
      " 5\n",
      "mu = 1449.4184915756778, lambda = 679.0368383913228, epsilon = 18.204845428466797, delta = 18.204845428466797\n",
      " Iter | Data \t | Smooth \t | Obj \t\n"
     ]
    },
    {
     "name": "stderr",
     "output_type": "stream",
     "text": [
      "/Users/srahman/opt/anaconda3/lib/python3.7/site-packages/sklearn/metrics/cluster/supervised.py:746: FutureWarning: The behavior of AMI will change in version 0.22. To match the behavior of 'v_measure_score', AMI will use average_method='arithmetic' by default.\n",
      "  FutureWarning)\n"
     ]
    },
    {
     "name": "stdout",
     "output_type": "stream",
     "text": [
      "\n",
      " value of k is \n",
      " 5\n",
      "mu = 1431.7439860256964, lambda = 710.447491845292, epsilon = 18.304481506347656, delta = 18.304481506347656\n",
      " Iter | Data \t | Smooth \t | Obj \t\n"
     ]
    },
    {
     "name": "stderr",
     "output_type": "stream",
     "text": [
      "/Users/srahman/opt/anaconda3/lib/python3.7/site-packages/sklearn/metrics/cluster/supervised.py:746: FutureWarning: The behavior of AMI will change in version 0.22. To match the behavior of 'v_measure_score', AMI will use average_method='arithmetic' by default.\n",
      "  FutureWarning)\n"
     ]
    },
    {
     "name": "stdout",
     "output_type": "stream",
     "text": [
      "\n",
      " value of k is \n",
      " 5\n",
      "mu = 1504.352113251236, lambda = 665.7041211883713, epsilon = 18.31633758544922, delta = 18.31633758544922\n",
      " Iter | Data \t | Smooth \t | Obj \t\n"
     ]
    },
    {
     "name": "stderr",
     "output_type": "stream",
     "text": [
      "/Users/srahman/opt/anaconda3/lib/python3.7/site-packages/sklearn/metrics/cluster/supervised.py:746: FutureWarning: The behavior of AMI will change in version 0.22. To match the behavior of 'v_measure_score', AMI will use average_method='arithmetic' by default.\n",
      "  FutureWarning)\n"
     ]
    },
    {
     "name": "stdout",
     "output_type": "stream",
     "text": [
      "\n",
      " value of k is \n",
      " 5\n",
      "mu = 1522.8249667455202, lambda = 674.9060622299309, epsilon = 18.450634002685547, delta = 18.450634002685547\n",
      " Iter | Data \t | Smooth \t | Obj \t\n"
     ]
    },
    {
     "name": "stderr",
     "output_type": "stream",
     "text": [
      "/Users/srahman/opt/anaconda3/lib/python3.7/site-packages/sklearn/metrics/cluster/supervised.py:746: FutureWarning: The behavior of AMI will change in version 0.22. To match the behavior of 'v_measure_score', AMI will use average_method='arithmetic' by default.\n",
      "  FutureWarning)\n"
     ]
    },
    {
     "name": "stdout",
     "output_type": "stream",
     "text": [
      "\n",
      " value of k is \n",
      " 5\n",
      "mu = 1448.395382614035, lambda = 673.8990518710364, epsilon = 18.175874710083008, delta = 18.175874710083008\n",
      " Iter | Data \t | Smooth \t | Obj \t\n"
     ]
    },
    {
     "name": "stderr",
     "output_type": "stream",
     "text": [
      "/Users/srahman/opt/anaconda3/lib/python3.7/site-packages/sklearn/metrics/cluster/supervised.py:746: FutureWarning: The behavior of AMI will change in version 0.22. To match the behavior of 'v_measure_score', AMI will use average_method='arithmetic' by default.\n",
      "  FutureWarning)\n"
     ]
    },
    {
     "name": "stdout",
     "output_type": "stream",
     "text": [
      "\n",
      " value of k is \n",
      " 5\n",
      "mu = 1492.2524720965994, lambda = 653.3058347141546, epsilon = 18.46288299560547, delta = 18.46288299560547\n",
      " Iter | Data \t | Smooth \t | Obj \t\n"
     ]
    },
    {
     "name": "stderr",
     "output_type": "stream",
     "text": [
      "/Users/srahman/opt/anaconda3/lib/python3.7/site-packages/sklearn/metrics/cluster/supervised.py:746: FutureWarning: The behavior of AMI will change in version 0.22. To match the behavior of 'v_measure_score', AMI will use average_method='arithmetic' by default.\n",
      "  FutureWarning)\n"
     ]
    },
    {
     "name": "stdout",
     "output_type": "stream",
     "text": [
      "\n",
      " value of k is \n",
      " 5\n",
      "mu = 1460.8530991272273, lambda = 689.0119625865242, epsilon = 18.18426513671875, delta = 18.18426513671875\n",
      " Iter | Data \t | Smooth \t | Obj \t\n"
     ]
    },
    {
     "name": "stderr",
     "output_type": "stream",
     "text": [
      "/Users/srahman/opt/anaconda3/lib/python3.7/site-packages/sklearn/metrics/cluster/supervised.py:746: FutureWarning: The behavior of AMI will change in version 0.22. To match the behavior of 'v_measure_score', AMI will use average_method='arithmetic' by default.\n",
      "  FutureWarning)\n"
     ]
    },
    {
     "name": "stdout",
     "output_type": "stream",
     "text": [
      "\n",
      " value of k is \n",
      " 5\n",
      "mu = 1427.5883776778755, lambda = 724.6742541055705, epsilon = 18.100643157958984, delta = 18.100643157958984\n",
      " Iter | Data \t | Smooth \t | Obj \t\n"
     ]
    },
    {
     "name": "stderr",
     "output_type": "stream",
     "text": [
      "/Users/srahman/opt/anaconda3/lib/python3.7/site-packages/sklearn/metrics/cluster/supervised.py:746: FutureWarning: The behavior of AMI will change in version 0.22. To match the behavior of 'v_measure_score', AMI will use average_method='arithmetic' by default.\n",
      "  FutureWarning)\n"
     ]
    },
    {
     "name": "stdout",
     "output_type": "stream",
     "text": [
      "\n",
      " value of k is \n",
      " 5\n",
      "mu = 1442.909011659951, lambda = 689.0480111175225, epsilon = 18.227054595947266, delta = 18.227054595947266\n",
      " Iter | Data \t | Smooth \t | Obj \t\n"
     ]
    },
    {
     "name": "stderr",
     "output_type": "stream",
     "text": [
      "/Users/srahman/opt/anaconda3/lib/python3.7/site-packages/sklearn/metrics/cluster/supervised.py:746: FutureWarning: The behavior of AMI will change in version 0.22. To match the behavior of 'v_measure_score', AMI will use average_method='arithmetic' by default.\n",
      "  FutureWarning)\n"
     ]
    },
    {
     "name": "stdout",
     "output_type": "stream",
     "text": [
      "\n",
      " value of k is \n",
      " 5\n",
      "mu = 1460.9046170062356, lambda = 733.4041487127292, epsilon = 18.219451904296875, delta = 18.219451904296875\n",
      " Iter | Data \t | Smooth \t | Obj \t\n"
     ]
    },
    {
     "name": "stderr",
     "output_type": "stream",
     "text": [
      "/Users/srahman/opt/anaconda3/lib/python3.7/site-packages/sklearn/metrics/cluster/supervised.py:746: FutureWarning: The behavior of AMI will change in version 0.22. To match the behavior of 'v_measure_score', AMI will use average_method='arithmetic' by default.\n",
      "  FutureWarning)\n"
     ]
    },
    {
     "name": "stdout",
     "output_type": "stream",
     "text": [
      "\n",
      " value of k is \n",
      " 5\n",
      "mu = 1453.7687191501136, lambda = 672.5572914994137, epsilon = 18.24459457397461, delta = 18.24459457397461\n",
      " Iter | Data \t | Smooth \t | Obj \t\n"
     ]
    },
    {
     "name": "stderr",
     "output_type": "stream",
     "text": [
      "/Users/srahman/opt/anaconda3/lib/python3.7/site-packages/sklearn/metrics/cluster/supervised.py:746: FutureWarning: The behavior of AMI will change in version 0.22. To match the behavior of 'v_measure_score', AMI will use average_method='arithmetic' by default.\n",
      "  FutureWarning)\n"
     ]
    },
    {
     "name": "stdout",
     "output_type": "stream",
     "text": [
      "\n",
      " value of k is \n",
      " 5\n",
      "mu = 1430.789115862437, lambda = 701.3961209018464, epsilon = 18.40981674194336, delta = 18.40981674194336\n",
      " Iter | Data \t | Smooth \t | Obj \t\n"
     ]
    },
    {
     "name": "stderr",
     "output_type": "stream",
     "text": [
      "/Users/srahman/opt/anaconda3/lib/python3.7/site-packages/sklearn/metrics/cluster/supervised.py:746: FutureWarning: The behavior of AMI will change in version 0.22. To match the behavior of 'v_measure_score', AMI will use average_method='arithmetic' by default.\n",
      "  FutureWarning)\n"
     ]
    },
    {
     "name": "stdout",
     "output_type": "stream",
     "text": [
      "\n",
      " value of k is \n",
      " 5\n",
      "mu = 1440.4035568207037, lambda = 704.5118709699344, epsilon = 18.178245544433594, delta = 18.178245544433594\n",
      " Iter | Data \t | Smooth \t | Obj \t\n"
     ]
    },
    {
     "name": "stderr",
     "output_type": "stream",
     "text": [
      "/Users/srahman/opt/anaconda3/lib/python3.7/site-packages/sklearn/metrics/cluster/supervised.py:746: FutureWarning: The behavior of AMI will change in version 0.22. To match the behavior of 'v_measure_score', AMI will use average_method='arithmetic' by default.\n",
      "  FutureWarning)\n"
     ]
    },
    {
     "name": "stdout",
     "output_type": "stream",
     "text": [
      "\n",
      " value of k is \n",
      " 5\n",
      "mu = 1453.6100117923452, lambda = 682.423134470106, epsilon = 17.935564041137695, delta = 17.935564041137695\n",
      " Iter | Data \t | Smooth \t | Obj \t\n"
     ]
    },
    {
     "name": "stderr",
     "output_type": "stream",
     "text": [
      "/Users/srahman/opt/anaconda3/lib/python3.7/site-packages/sklearn/metrics/cluster/supervised.py:746: FutureWarning: The behavior of AMI will change in version 0.22. To match the behavior of 'v_measure_score', AMI will use average_method='arithmetic' by default.\n",
      "  FutureWarning)\n"
     ]
    },
    {
     "name": "stdout",
     "output_type": "stream",
     "text": [
      "\n",
      " value of k is \n",
      " 5\n",
      "mu = 1551.6582345182978, lambda = 668.5418704088753, epsilon = 18.473487854003906, delta = 18.473487854003906\n",
      " Iter | Data \t | Smooth \t | Obj \t\n"
     ]
    },
    {
     "name": "stderr",
     "output_type": "stream",
     "text": [
      "/Users/srahman/opt/anaconda3/lib/python3.7/site-packages/sklearn/metrics/cluster/supervised.py:746: FutureWarning: The behavior of AMI will change in version 0.22. To match the behavior of 'v_measure_score', AMI will use average_method='arithmetic' by default.\n",
      "  FutureWarning)\n"
     ]
    },
    {
     "name": "stdout",
     "output_type": "stream",
     "text": [
      "\n",
      " value of k is \n",
      " 5\n",
      "mu = 1484.1050061259302, lambda = 699.0535355353372, epsilon = 18.19607162475586, delta = 18.19607162475586\n",
      " Iter | Data \t | Smooth \t | Obj \t\n"
     ]
    },
    {
     "name": "stderr",
     "output_type": "stream",
     "text": [
      "/Users/srahman/opt/anaconda3/lib/python3.7/site-packages/sklearn/metrics/cluster/supervised.py:746: FutureWarning: The behavior of AMI will change in version 0.22. To match the behavior of 'v_measure_score', AMI will use average_method='arithmetic' by default.\n",
      "  FutureWarning)\n"
     ]
    },
    {
     "name": "stdout",
     "output_type": "stream",
     "text": [
      "\n",
      " value of k is \n",
      " 5\n",
      "mu = 1405.0029503336846, lambda = 711.6230120115856, epsilon = 18.303909301757812, delta = 18.303909301757812\n",
      " Iter | Data \t | Smooth \t | Obj \t\n"
     ]
    },
    {
     "name": "stderr",
     "output_type": "stream",
     "text": [
      "/Users/srahman/opt/anaconda3/lib/python3.7/site-packages/sklearn/metrics/cluster/supervised.py:746: FutureWarning: The behavior of AMI will change in version 0.22. To match the behavior of 'v_measure_score', AMI will use average_method='arithmetic' by default.\n",
      "  FutureWarning)\n"
     ]
    },
    {
     "name": "stdout",
     "output_type": "stream",
     "text": [
      "\n",
      " value of k is \n",
      " 5\n",
      "mu = 1465.8151000558137, lambda = 714.0992702214879, epsilon = 18.182226181030273, delta = 18.182226181030273\n",
      " Iter | Data \t | Smooth \t | Obj \t\n"
     ]
    },
    {
     "name": "stderr",
     "output_type": "stream",
     "text": [
      "/Users/srahman/opt/anaconda3/lib/python3.7/site-packages/sklearn/metrics/cluster/supervised.py:746: FutureWarning: The behavior of AMI will change in version 0.22. To match the behavior of 'v_measure_score', AMI will use average_method='arithmetic' by default.\n",
      "  FutureWarning)\n"
     ]
    },
    {
     "name": "stdout",
     "output_type": "stream",
     "text": [
      "\n",
      " value of k is \n",
      " 5\n",
      "mu = 1412.9549560036212, lambda = 687.2746343636061, epsilon = 18.298892974853516, delta = 18.298892974853516\n",
      " Iter | Data \t | Smooth \t | Obj \t\n"
     ]
    },
    {
     "name": "stderr",
     "output_type": "stream",
     "text": [
      "/Users/srahman/opt/anaconda3/lib/python3.7/site-packages/sklearn/metrics/cluster/supervised.py:746: FutureWarning: The behavior of AMI will change in version 0.22. To match the behavior of 'v_measure_score', AMI will use average_method='arithmetic' by default.\n",
      "  FutureWarning)\n"
     ]
    },
    {
     "name": "stdout",
     "output_type": "stream",
     "text": [
      "\n",
      " value of k is \n",
      " 5\n",
      "mu = 1487.9991923010493, lambda = 690.6085973975653, epsilon = 18.525875091552734, delta = 18.525875091552734\n",
      " Iter | Data \t | Smooth \t | Obj \t\n"
     ]
    },
    {
     "name": "stderr",
     "output_type": "stream",
     "text": [
      "/Users/srahman/opt/anaconda3/lib/python3.7/site-packages/sklearn/metrics/cluster/supervised.py:746: FutureWarning: The behavior of AMI will change in version 0.22. To match the behavior of 'v_measure_score', AMI will use average_method='arithmetic' by default.\n",
      "  FutureWarning)\n"
     ]
    },
    {
     "name": "stdout",
     "output_type": "stream",
     "text": [
      "\n",
      " value of k is \n",
      " 5\n",
      "mu = 1507.966901075095, lambda = 625.7606512090769, epsilon = 18.162517547607422, delta = 18.162517547607422\n",
      " Iter | Data \t | Smooth \t | Obj \t\n"
     ]
    },
    {
     "name": "stderr",
     "output_type": "stream",
     "text": [
      "/Users/srahman/opt/anaconda3/lib/python3.7/site-packages/sklearn/metrics/cluster/supervised.py:746: FutureWarning: The behavior of AMI will change in version 0.22. To match the behavior of 'v_measure_score', AMI will use average_method='arithmetic' by default.\n",
      "  FutureWarning)\n"
     ]
    },
    {
     "name": "stdout",
     "output_type": "stream",
     "text": [
      "\n",
      " value of k is \n",
      " 5\n",
      "mu = 1437.542022601945, lambda = 691.187207209378, epsilon = 18.366592407226562, delta = 18.366592407226562\n",
      " Iter | Data \t | Smooth \t | Obj \t\n"
     ]
    },
    {
     "name": "stderr",
     "output_type": "stream",
     "text": [
      "/Users/srahman/opt/anaconda3/lib/python3.7/site-packages/sklearn/metrics/cluster/supervised.py:746: FutureWarning: The behavior of AMI will change in version 0.22. To match the behavior of 'v_measure_score', AMI will use average_method='arithmetic' by default.\n",
      "  FutureWarning)\n"
     ]
    },
    {
     "name": "stdout",
     "output_type": "stream",
     "text": [
      "\n",
      " value of k is \n",
      " 5\n",
      "mu = 1454.8766369793448, lambda = 701.7538922423954, epsilon = 18.453359603881836, delta = 18.453359603881836\n",
      " Iter | Data \t | Smooth \t | Obj \t\n"
     ]
    },
    {
     "name": "stderr",
     "output_type": "stream",
     "text": [
      "/Users/srahman/opt/anaconda3/lib/python3.7/site-packages/sklearn/metrics/cluster/supervised.py:746: FutureWarning: The behavior of AMI will change in version 0.22. To match the behavior of 'v_measure_score', AMI will use average_method='arithmetic' by default.\n",
      "  FutureWarning)\n"
     ]
    },
    {
     "name": "stdout",
     "output_type": "stream",
     "text": [
      "\n",
      " value of k is \n",
      " 5\n",
      "mu = 1453.845052917066, lambda = 689.0937907634693, epsilon = 18.16346549987793, delta = 18.16346549987793\n",
      " Iter | Data \t | Smooth \t | Obj \t\n"
     ]
    },
    {
     "name": "stderr",
     "output_type": "stream",
     "text": [
      "/Users/srahman/opt/anaconda3/lib/python3.7/site-packages/sklearn/metrics/cluster/supervised.py:746: FutureWarning: The behavior of AMI will change in version 0.22. To match the behavior of 'v_measure_score', AMI will use average_method='arithmetic' by default.\n",
      "  FutureWarning)\n"
     ]
    },
    {
     "name": "stdout",
     "output_type": "stream",
     "text": [
      "\n",
      " value of k is \n",
      " 5\n",
      "mu = 1441.1677318497204, lambda = 686.1640339754696, epsilon = 18.36454200744629, delta = 18.36454200744629\n",
      " Iter | Data \t | Smooth \t | Obj \t\n"
     ]
    },
    {
     "name": "stderr",
     "output_type": "stream",
     "text": [
      "/Users/srahman/opt/anaconda3/lib/python3.7/site-packages/sklearn/metrics/cluster/supervised.py:746: FutureWarning: The behavior of AMI will change in version 0.22. To match the behavior of 'v_measure_score', AMI will use average_method='arithmetic' by default.\n",
      "  FutureWarning)\n"
     ]
    },
    {
     "name": "stdout",
     "output_type": "stream",
     "text": [
      "\n",
      " value of k is \n",
      " 5\n",
      "mu = 1430.1236447949777, lambda = 667.5029578190308, epsilon = 18.460813522338867, delta = 18.460813522338867\n",
      " Iter | Data \t | Smooth \t | Obj \t\n"
     ]
    },
    {
     "name": "stderr",
     "output_type": "stream",
     "text": [
      "/Users/srahman/opt/anaconda3/lib/python3.7/site-packages/sklearn/metrics/cluster/supervised.py:746: FutureWarning: The behavior of AMI will change in version 0.22. To match the behavior of 'v_measure_score', AMI will use average_method='arithmetic' by default.\n",
      "  FutureWarning)\n"
     ]
    },
    {
     "name": "stdout",
     "output_type": "stream",
     "text": [
      "\n",
      " value of k is \n",
      " 5\n",
      "mu = 1482.518638943482, lambda = 653.2065905409104, epsilon = 18.397680282592773, delta = 18.397680282592773\n",
      " Iter | Data \t | Smooth \t | Obj \t\n"
     ]
    },
    {
     "name": "stderr",
     "output_type": "stream",
     "text": [
      "/Users/srahman/opt/anaconda3/lib/python3.7/site-packages/sklearn/metrics/cluster/supervised.py:746: FutureWarning: The behavior of AMI will change in version 0.22. To match the behavior of 'v_measure_score', AMI will use average_method='arithmetic' by default.\n",
      "  FutureWarning)\n"
     ]
    },
    {
     "name": "stdout",
     "output_type": "stream",
     "text": [
      "\n",
      " value of k is \n",
      " 5\n",
      "mu = 1489.3750541483023, lambda = 702.0165306112398, epsilon = 18.229265213012695, delta = 18.229265213012695\n",
      " Iter | Data \t | Smooth \t | Obj \t\n"
     ]
    },
    {
     "name": "stderr",
     "output_type": "stream",
     "text": [
      "/Users/srahman/opt/anaconda3/lib/python3.7/site-packages/sklearn/metrics/cluster/supervised.py:746: FutureWarning: The behavior of AMI will change in version 0.22. To match the behavior of 'v_measure_score', AMI will use average_method='arithmetic' by default.\n",
      "  FutureWarning)\n"
     ]
    },
    {
     "name": "stdout",
     "output_type": "stream",
     "text": [
      "\n",
      " value of k is \n",
      " 5\n",
      "mu = 1472.0177707115072, lambda = 717.5115682762283, epsilon = 18.525434494018555, delta = 18.525434494018555\n",
      " Iter | Data \t | Smooth \t | Obj \t\n"
     ]
    },
    {
     "name": "stderr",
     "output_type": "stream",
     "text": [
      "/Users/srahman/opt/anaconda3/lib/python3.7/site-packages/sklearn/metrics/cluster/supervised.py:746: FutureWarning: The behavior of AMI will change in version 0.22. To match the behavior of 'v_measure_score', AMI will use average_method='arithmetic' by default.\n",
      "  FutureWarning)\n"
     ]
    },
    {
     "name": "stdout",
     "output_type": "stream",
     "text": [
      "\n",
      " value of k is \n",
      " 5\n",
      "mu = 1468.9910223082843, lambda = 661.3306925330058, epsilon = 18.353269577026367, delta = 18.353269577026367\n",
      " Iter | Data \t | Smooth \t | Obj \t\n"
     ]
    },
    {
     "name": "stderr",
     "output_type": "stream",
     "text": [
      "/Users/srahman/opt/anaconda3/lib/python3.7/site-packages/sklearn/metrics/cluster/supervised.py:746: FutureWarning: The behavior of AMI will change in version 0.22. To match the behavior of 'v_measure_score', AMI will use average_method='arithmetic' by default.\n",
      "  FutureWarning)\n"
     ]
    },
    {
     "name": "stdout",
     "output_type": "stream",
     "text": [
      "\n",
      " value of k is \n",
      " 5\n",
      "mu = 1467.783574609155, lambda = 587.1752919408063, epsilon = 18.259201049804688, delta = 18.259201049804688\n",
      " Iter | Data \t | Smooth \t | Obj \t\n"
     ]
    },
    {
     "name": "stderr",
     "output_type": "stream",
     "text": [
      "/Users/srahman/opt/anaconda3/lib/python3.7/site-packages/sklearn/metrics/cluster/supervised.py:746: FutureWarning: The behavior of AMI will change in version 0.22. To match the behavior of 'v_measure_score', AMI will use average_method='arithmetic' by default.\n",
      "  FutureWarning)\n"
     ]
    },
    {
     "name": "stdout",
     "output_type": "stream",
     "text": [
      "\n",
      " value of k is \n",
      " 5\n",
      "mu = 1450.0937199552282, lambda = 690.133119634144, epsilon = 18.498767852783203, delta = 18.498767852783203\n",
      " Iter | Data \t | Smooth \t | Obj \t\n"
     ]
    },
    {
     "name": "stderr",
     "output_type": "stream",
     "text": [
      "/Users/srahman/opt/anaconda3/lib/python3.7/site-packages/sklearn/metrics/cluster/supervised.py:746: FutureWarning: The behavior of AMI will change in version 0.22. To match the behavior of 'v_measure_score', AMI will use average_method='arithmetic' by default.\n",
      "  FutureWarning)\n"
     ]
    },
    {
     "name": "stdout",
     "output_type": "stream",
     "text": [
      "\n",
      " value of k is \n",
      " 5\n",
      "mu = 1485.4451977924327, lambda = 680.2452820989705, epsilon = 18.36631202697754, delta = 18.36631202697754\n",
      " Iter | Data \t | Smooth \t | Obj \t\n"
     ]
    },
    {
     "name": "stderr",
     "output_type": "stream",
     "text": [
      "/Users/srahman/opt/anaconda3/lib/python3.7/site-packages/sklearn/metrics/cluster/supervised.py:746: FutureWarning: The behavior of AMI will change in version 0.22. To match the behavior of 'v_measure_score', AMI will use average_method='arithmetic' by default.\n",
      "  FutureWarning)\n"
     ]
    },
    {
     "name": "stdout",
     "output_type": "stream",
     "text": [
      "\n",
      " value of k is \n",
      " 5\n",
      "mu = 1426.5253392197628, lambda = 714.6724912670243, epsilon = 18.43911361694336, delta = 18.43911361694336\n",
      " Iter | Data \t | Smooth \t | Obj \t\n"
     ]
    },
    {
     "name": "stderr",
     "output_type": "stream",
     "text": [
      "/Users/srahman/opt/anaconda3/lib/python3.7/site-packages/sklearn/metrics/cluster/supervised.py:746: FutureWarning: The behavior of AMI will change in version 0.22. To match the behavior of 'v_measure_score', AMI will use average_method='arithmetic' by default.\n",
      "  FutureWarning)\n"
     ]
    },
    {
     "name": "stdout",
     "output_type": "stream",
     "text": [
      "\n",
      " value of k is \n",
      " 5\n",
      "mu = 1440.833145213499, lambda = 728.3129842715426, epsilon = 18.04562759399414, delta = 18.04562759399414\n",
      " Iter | Data \t | Smooth \t | Obj \t\n"
     ]
    },
    {
     "name": "stderr",
     "output_type": "stream",
     "text": [
      "/Users/srahman/opt/anaconda3/lib/python3.7/site-packages/sklearn/metrics/cluster/supervised.py:746: FutureWarning: The behavior of AMI will change in version 0.22. To match the behavior of 'v_measure_score', AMI will use average_method='arithmetic' by default.\n",
      "  FutureWarning)\n"
     ]
    },
    {
     "name": "stdout",
     "output_type": "stream",
     "text": [
      "\n",
      " value of k is \n",
      " 5\n",
      "mu = 1458.1199146405997, lambda = 715.7867331132215, epsilon = 18.436904907226562, delta = 18.436904907226562\n",
      " Iter | Data \t | Smooth \t | Obj \t\n"
     ]
    },
    {
     "name": "stderr",
     "output_type": "stream",
     "text": [
      "/Users/srahman/opt/anaconda3/lib/python3.7/site-packages/sklearn/metrics/cluster/supervised.py:746: FutureWarning: The behavior of AMI will change in version 0.22. To match the behavior of 'v_measure_score', AMI will use average_method='arithmetic' by default.\n",
      "  FutureWarning)\n"
     ]
    },
    {
     "name": "stdout",
     "output_type": "stream",
     "text": [
      "\n",
      " value of k is \n",
      " 5\n",
      "mu = 1436.6671124197746, lambda = 646.0513452054875, epsilon = 18.362529754638672, delta = 18.362529754638672\n",
      " Iter | Data \t | Smooth \t | Obj \t\n"
     ]
    },
    {
     "name": "stderr",
     "output_type": "stream",
     "text": [
      "/Users/srahman/opt/anaconda3/lib/python3.7/site-packages/sklearn/metrics/cluster/supervised.py:746: FutureWarning: The behavior of AMI will change in version 0.22. To match the behavior of 'v_measure_score', AMI will use average_method='arithmetic' by default.\n",
      "  FutureWarning)\n"
     ]
    },
    {
     "name": "stdout",
     "output_type": "stream",
     "text": [
      "\n",
      " value of k is \n",
      " 5\n",
      "mu = 1451.1755702448245, lambda = 749.7484427934346, epsilon = 18.26915740966797, delta = 18.26915740966797\n",
      " Iter | Data \t | Smooth \t | Obj \t\n"
     ]
    },
    {
     "name": "stderr",
     "output_type": "stream",
     "text": [
      "/Users/srahman/opt/anaconda3/lib/python3.7/site-packages/sklearn/metrics/cluster/supervised.py:746: FutureWarning: The behavior of AMI will change in version 0.22. To match the behavior of 'v_measure_score', AMI will use average_method='arithmetic' by default.\n",
      "  FutureWarning)\n"
     ]
    },
    {
     "name": "stdout",
     "output_type": "stream",
     "text": [
      "\n",
      " value of k is \n",
      " 5\n",
      "mu = 1454.827997662167, lambda = 706.5708256201815, epsilon = 18.121360778808594, delta = 18.121360778808594\n",
      " Iter | Data \t | Smooth \t | Obj \t\n"
     ]
    },
    {
     "name": "stderr",
     "output_type": "stream",
     "text": [
      "/Users/srahman/opt/anaconda3/lib/python3.7/site-packages/sklearn/metrics/cluster/supervised.py:746: FutureWarning: The behavior of AMI will change in version 0.22. To match the behavior of 'v_measure_score', AMI will use average_method='arithmetic' by default.\n",
      "  FutureWarning)\n"
     ]
    },
    {
     "name": "stdout",
     "output_type": "stream",
     "text": [
      "\n",
      " value of k is \n",
      " 5\n",
      "mu = 1480.8268387376302, lambda = 694.4664286935047, epsilon = 18.33051300048828, delta = 18.33051300048828\n",
      " Iter | Data \t | Smooth \t | Obj \t\n"
     ]
    },
    {
     "name": "stderr",
     "output_type": "stream",
     "text": [
      "/Users/srahman/opt/anaconda3/lib/python3.7/site-packages/sklearn/metrics/cluster/supervised.py:746: FutureWarning: The behavior of AMI will change in version 0.22. To match the behavior of 'v_measure_score', AMI will use average_method='arithmetic' by default.\n",
      "  FutureWarning)\n"
     ]
    },
    {
     "name": "stdout",
     "output_type": "stream",
     "text": [
      "\n",
      " value of k is \n",
      " 5\n",
      "mu = 1487.5014689976233, lambda = 662.7973005115354, epsilon = 18.352901458740234, delta = 18.352901458740234\n",
      " Iter | Data \t | Smooth \t | Obj \t\n"
     ]
    },
    {
     "name": "stderr",
     "output_type": "stream",
     "text": [
      "/Users/srahman/opt/anaconda3/lib/python3.7/site-packages/sklearn/metrics/cluster/supervised.py:746: FutureWarning: The behavior of AMI will change in version 0.22. To match the behavior of 'v_measure_score', AMI will use average_method='arithmetic' by default.\n",
      "  FutureWarning)\n"
     ]
    },
    {
     "name": "stdout",
     "output_type": "stream",
     "text": [
      "\n",
      " value of k is \n",
      " 5\n",
      "mu = 1451.76737382001, lambda = 660.2735677231215, epsilon = 18.222801208496094, delta = 18.222801208496094\n",
      " Iter | Data \t | Smooth \t | Obj \t\n"
     ]
    },
    {
     "name": "stderr",
     "output_type": "stream",
     "text": [
      "/Users/srahman/opt/anaconda3/lib/python3.7/site-packages/sklearn/metrics/cluster/supervised.py:746: FutureWarning: The behavior of AMI will change in version 0.22. To match the behavior of 'v_measure_score', AMI will use average_method='arithmetic' by default.\n",
      "  FutureWarning)\n"
     ]
    },
    {
     "name": "stdout",
     "output_type": "stream",
     "text": [
      "\n",
      " value of k is \n",
      " 5\n",
      "mu = 1421.5852566425274, lambda = 702.8047280223394, epsilon = 18.331636428833008, delta = 18.331636428833008\n",
      " Iter | Data \t | Smooth \t | Obj \t\n"
     ]
    },
    {
     "name": "stderr",
     "output_type": "stream",
     "text": [
      "/Users/srahman/opt/anaconda3/lib/python3.7/site-packages/sklearn/metrics/cluster/supervised.py:746: FutureWarning: The behavior of AMI will change in version 0.22. To match the behavior of 'v_measure_score', AMI will use average_method='arithmetic' by default.\n",
      "  FutureWarning)\n"
     ]
    },
    {
     "name": "stdout",
     "output_type": "stream",
     "text": [
      "\n",
      " value of k is \n",
      " 5\n",
      "mu = 1489.1241547902318, lambda = 651.6208671738991, epsilon = 18.191650390625, delta = 18.191650390625\n",
      " Iter | Data \t | Smooth \t | Obj \t\n"
     ]
    },
    {
     "name": "stderr",
     "output_type": "stream",
     "text": [
      "/Users/srahman/opt/anaconda3/lib/python3.7/site-packages/sklearn/metrics/cluster/supervised.py:746: FutureWarning: The behavior of AMI will change in version 0.22. To match the behavior of 'v_measure_score', AMI will use average_method='arithmetic' by default.\n",
      "  FutureWarning)\n"
     ]
    },
    {
     "name": "stdout",
     "output_type": "stream",
     "text": [
      "\n",
      " value of k is \n",
      " 5\n",
      "mu = 1433.6396714866096, lambda = 652.5868703492732, epsilon = 18.39798927307129, delta = 18.39798927307129\n",
      " Iter | Data \t | Smooth \t | Obj \t\n"
     ]
    },
    {
     "name": "stderr",
     "output_type": "stream",
     "text": [
      "/Users/srahman/opt/anaconda3/lib/python3.7/site-packages/sklearn/metrics/cluster/supervised.py:746: FutureWarning: The behavior of AMI will change in version 0.22. To match the behavior of 'v_measure_score', AMI will use average_method='arithmetic' by default.\n",
      "  FutureWarning)\n"
     ]
    },
    {
     "name": "stdout",
     "output_type": "stream",
     "text": [
      "\n",
      " value of k is \n",
      " 5\n",
      "mu = 1443.5445645453983, lambda = 702.6902431724402, epsilon = 18.37757110595703, delta = 18.37757110595703\n",
      " Iter | Data \t | Smooth \t | Obj \t\n"
     ]
    },
    {
     "name": "stderr",
     "output_type": "stream",
     "text": [
      "/Users/srahman/opt/anaconda3/lib/python3.7/site-packages/sklearn/metrics/cluster/supervised.py:746: FutureWarning: The behavior of AMI will change in version 0.22. To match the behavior of 'v_measure_score', AMI will use average_method='arithmetic' by default.\n",
      "  FutureWarning)\n"
     ]
    },
    {
     "name": "stdout",
     "output_type": "stream",
     "text": [
      "\n",
      " value of k is \n",
      " 5\n",
      "mu = 1496.1892722155426, lambda = 645.0779471422835, epsilon = 18.049604415893555, delta = 18.049604415893555\n",
      " Iter | Data \t | Smooth \t | Obj \t\n"
     ]
    },
    {
     "name": "stderr",
     "output_type": "stream",
     "text": [
      "/Users/srahman/opt/anaconda3/lib/python3.7/site-packages/sklearn/metrics/cluster/supervised.py:746: FutureWarning: The behavior of AMI will change in version 0.22. To match the behavior of 'v_measure_score', AMI will use average_method='arithmetic' by default.\n",
      "  FutureWarning)\n"
     ]
    },
    {
     "name": "stdout",
     "output_type": "stream",
     "text": [
      "\n",
      " value of k is \n",
      " 5\n",
      "mu = 1427.8492682216893, lambda = 656.5803684073542, epsilon = 18.1667423248291, delta = 18.1667423248291\n",
      " Iter | Data \t | Smooth \t | Obj \t\n"
     ]
    },
    {
     "name": "stderr",
     "output_type": "stream",
     "text": [
      "/Users/srahman/opt/anaconda3/lib/python3.7/site-packages/sklearn/metrics/cluster/supervised.py:746: FutureWarning: The behavior of AMI will change in version 0.22. To match the behavior of 'v_measure_score', AMI will use average_method='arithmetic' by default.\n",
      "  FutureWarning)\n"
     ]
    },
    {
     "name": "stdout",
     "output_type": "stream",
     "text": [
      "\n",
      " value of k is \n",
      " 5\n",
      "mu = 1484.735564285318, lambda = 697.2542206930758, epsilon = 17.932621002197266, delta = 17.932621002197266\n",
      " Iter | Data \t | Smooth \t | Obj \t\n"
     ]
    },
    {
     "name": "stderr",
     "output_type": "stream",
     "text": [
      "/Users/srahman/opt/anaconda3/lib/python3.7/site-packages/sklearn/metrics/cluster/supervised.py:746: FutureWarning: The behavior of AMI will change in version 0.22. To match the behavior of 'v_measure_score', AMI will use average_method='arithmetic' by default.\n",
      "  FutureWarning)\n"
     ]
    },
    {
     "name": "stdout",
     "output_type": "stream",
     "text": [
      "\n",
      " value of k is \n",
      " 5\n",
      "mu = 1451.4111696336004, lambda = 638.0010079548975, epsilon = 18.392860412597656, delta = 18.392860412597656\n",
      " Iter | Data \t | Smooth \t | Obj \t\n"
     ]
    },
    {
     "name": "stderr",
     "output_type": "stream",
     "text": [
      "/Users/srahman/opt/anaconda3/lib/python3.7/site-packages/sklearn/metrics/cluster/supervised.py:746: FutureWarning: The behavior of AMI will change in version 0.22. To match the behavior of 'v_measure_score', AMI will use average_method='arithmetic' by default.\n",
      "  FutureWarning)\n"
     ]
    },
    {
     "name": "stdout",
     "output_type": "stream",
     "text": [
      "\n",
      " value of k is \n",
      " 5\n",
      "mu = 1469.4213065627082, lambda = 688.6913438004866, epsilon = 18.28328514099121, delta = 18.28328514099121\n",
      " Iter | Data \t | Smooth \t | Obj \t\n"
     ]
    },
    {
     "name": "stderr",
     "output_type": "stream",
     "text": [
      "/Users/srahman/opt/anaconda3/lib/python3.7/site-packages/sklearn/metrics/cluster/supervised.py:746: FutureWarning: The behavior of AMI will change in version 0.22. To match the behavior of 'v_measure_score', AMI will use average_method='arithmetic' by default.\n",
      "  FutureWarning)\n"
     ]
    },
    {
     "name": "stdout",
     "output_type": "stream",
     "text": [
      "\n",
      " value of k is \n",
      " 5\n",
      "mu = 1408.7004964412627, lambda = 636.7375111221728, epsilon = 18.001060485839844, delta = 18.001060485839844\n",
      " Iter | Data \t | Smooth \t | Obj \t\n"
     ]
    },
    {
     "name": "stderr",
     "output_type": "stream",
     "text": [
      "/Users/srahman/opt/anaconda3/lib/python3.7/site-packages/sklearn/metrics/cluster/supervised.py:746: FutureWarning: The behavior of AMI will change in version 0.22. To match the behavior of 'v_measure_score', AMI will use average_method='arithmetic' by default.\n",
      "  FutureWarning)\n"
     ]
    },
    {
     "name": "stdout",
     "output_type": "stream",
     "text": [
      "\n",
      " value of k is \n",
      " 5\n",
      "mu = 1433.9631636261474, lambda = 705.5167749074353, epsilon = 18.23754119873047, delta = 18.23754119873047\n",
      " Iter | Data \t | Smooth \t | Obj \t\n"
     ]
    },
    {
     "name": "stderr",
     "output_type": "stream",
     "text": [
      "/Users/srahman/opt/anaconda3/lib/python3.7/site-packages/sklearn/metrics/cluster/supervised.py:746: FutureWarning: The behavior of AMI will change in version 0.22. To match the behavior of 'v_measure_score', AMI will use average_method='arithmetic' by default.\n",
      "  FutureWarning)\n"
     ]
    },
    {
     "name": "stdout",
     "output_type": "stream",
     "text": [
      "\n",
      " value of k is \n",
      " 5\n",
      "mu = 1457.799006643283, lambda = 691.5847825183364, epsilon = 18.40106964111328, delta = 18.40106964111328\n",
      " Iter | Data \t | Smooth \t | Obj \t\n"
     ]
    },
    {
     "name": "stderr",
     "output_type": "stream",
     "text": [
      "/Users/srahman/opt/anaconda3/lib/python3.7/site-packages/sklearn/metrics/cluster/supervised.py:746: FutureWarning: The behavior of AMI will change in version 0.22. To match the behavior of 'v_measure_score', AMI will use average_method='arithmetic' by default.\n",
      "  FutureWarning)\n"
     ]
    },
    {
     "name": "stdout",
     "output_type": "stream",
     "text": [
      "\n",
      " value of k is \n",
      " 5\n",
      "mu = 1456.657950224515, lambda = 688.0298642014793, epsilon = 18.208084106445312, delta = 18.208084106445312\n",
      " Iter | Data \t | Smooth \t | Obj \t\n"
     ]
    },
    {
     "name": "stderr",
     "output_type": "stream",
     "text": [
      "/Users/srahman/opt/anaconda3/lib/python3.7/site-packages/sklearn/metrics/cluster/supervised.py:746: FutureWarning: The behavior of AMI will change in version 0.22. To match the behavior of 'v_measure_score', AMI will use average_method='arithmetic' by default.\n",
      "  FutureWarning)\n"
     ]
    },
    {
     "name": "stdout",
     "output_type": "stream",
     "text": [
      "\n",
      " value of k is \n",
      " 5\n",
      "mu = 1535.947122031659, lambda = 696.5089009014249, epsilon = 18.065383911132812, delta = 18.065383911132812\n",
      " Iter | Data \t | Smooth \t | Obj \t\n"
     ]
    },
    {
     "name": "stderr",
     "output_type": "stream",
     "text": [
      "/Users/srahman/opt/anaconda3/lib/python3.7/site-packages/sklearn/metrics/cluster/supervised.py:746: FutureWarning: The behavior of AMI will change in version 0.22. To match the behavior of 'v_measure_score', AMI will use average_method='arithmetic' by default.\n",
      "  FutureWarning)\n"
     ]
    },
    {
     "name": "stdout",
     "output_type": "stream",
     "text": [
      "\n",
      " value of k is \n",
      " 5\n",
      "mu = 1449.5384815530088, lambda = 673.3281708497732, epsilon = 18.21695899963379, delta = 18.21695899963379\n",
      " Iter | Data \t | Smooth \t | Obj \t\n"
     ]
    },
    {
     "name": "stderr",
     "output_type": "stream",
     "text": [
      "/Users/srahman/opt/anaconda3/lib/python3.7/site-packages/sklearn/metrics/cluster/supervised.py:746: FutureWarning: The behavior of AMI will change in version 0.22. To match the behavior of 'v_measure_score', AMI will use average_method='arithmetic' by default.\n",
      "  FutureWarning)\n"
     ]
    },
    {
     "name": "stdout",
     "output_type": "stream",
     "text": [
      "\n",
      " value of k is \n",
      " 5\n",
      "mu = 1427.1295677404378, lambda = 675.9598798383954, epsilon = 18.215269088745117, delta = 18.215269088745117\n",
      " Iter | Data \t | Smooth \t | Obj \t\n"
     ]
    },
    {
     "name": "stderr",
     "output_type": "stream",
     "text": [
      "/Users/srahman/opt/anaconda3/lib/python3.7/site-packages/sklearn/metrics/cluster/supervised.py:746: FutureWarning: The behavior of AMI will change in version 0.22. To match the behavior of 'v_measure_score', AMI will use average_method='arithmetic' by default.\n",
      "  FutureWarning)\n"
     ]
    },
    {
     "name": "stdout",
     "output_type": "stream",
     "text": [
      "\n",
      " value of k is \n",
      " 5\n",
      "mu = 1463.8037075569737, lambda = 681.4978485708444, epsilon = 18.450481414794922, delta = 18.450481414794922\n",
      " Iter | Data \t | Smooth \t | Obj \t\n"
     ]
    },
    {
     "name": "stderr",
     "output_type": "stream",
     "text": [
      "/Users/srahman/opt/anaconda3/lib/python3.7/site-packages/sklearn/metrics/cluster/supervised.py:746: FutureWarning: The behavior of AMI will change in version 0.22. To match the behavior of 'v_measure_score', AMI will use average_method='arithmetic' by default.\n",
      "  FutureWarning)\n"
     ]
    },
    {
     "name": "stdout",
     "output_type": "stream",
     "text": [
      "\n",
      " value of k is \n",
      " 5\n",
      "mu = 1428.7512093602418, lambda = 695.9219415588487, epsilon = 18.168113708496094, delta = 18.168113708496094\n",
      " Iter | Data \t | Smooth \t | Obj \t\n"
     ]
    },
    {
     "name": "stderr",
     "output_type": "stream",
     "text": [
      "/Users/srahman/opt/anaconda3/lib/python3.7/site-packages/sklearn/metrics/cluster/supervised.py:746: FutureWarning: The behavior of AMI will change in version 0.22. To match the behavior of 'v_measure_score', AMI will use average_method='arithmetic' by default.\n",
      "  FutureWarning)\n"
     ]
    },
    {
     "name": "stdout",
     "output_type": "stream",
     "text": [
      "\n",
      " value of k is \n",
      " 5\n",
      "mu = 1435.051996450009, lambda = 695.1656811052119, epsilon = 18.22327423095703, delta = 18.22327423095703\n",
      " Iter | Data \t | Smooth \t | Obj \t\n"
     ]
    },
    {
     "name": "stderr",
     "output_type": "stream",
     "text": [
      "/Users/srahman/opt/anaconda3/lib/python3.7/site-packages/sklearn/metrics/cluster/supervised.py:746: FutureWarning: The behavior of AMI will change in version 0.22. To match the behavior of 'v_measure_score', AMI will use average_method='arithmetic' by default.\n",
      "  FutureWarning)\n"
     ]
    },
    {
     "name": "stdout",
     "output_type": "stream",
     "text": [
      "\n",
      " value of k is \n",
      " 5\n",
      "mu = 1416.6243978264247, lambda = 683.16226644085, epsilon = 18.460487365722656, delta = 18.460487365722656\n",
      " Iter | Data \t | Smooth \t | Obj \t\n"
     ]
    },
    {
     "name": "stderr",
     "output_type": "stream",
     "text": [
      "/Users/srahman/opt/anaconda3/lib/python3.7/site-packages/sklearn/metrics/cluster/supervised.py:746: FutureWarning: The behavior of AMI will change in version 0.22. To match the behavior of 'v_measure_score', AMI will use average_method='arithmetic' by default.\n",
      "  FutureWarning)\n"
     ]
    },
    {
     "name": "stdout",
     "output_type": "stream",
     "text": [
      "\n",
      " value of k is \n",
      " 5\n",
      "mu = 1470.730527919466, lambda = 628.7498450789309, epsilon = 18.65826416015625, delta = 18.65826416015625\n",
      " Iter | Data \t | Smooth \t | Obj \t\n"
     ]
    },
    {
     "name": "stderr",
     "output_type": "stream",
     "text": [
      "/Users/srahman/opt/anaconda3/lib/python3.7/site-packages/sklearn/metrics/cluster/supervised.py:746: FutureWarning: The behavior of AMI will change in version 0.22. To match the behavior of 'v_measure_score', AMI will use average_method='arithmetic' by default.\n",
      "  FutureWarning)\n"
     ]
    },
    {
     "name": "stdout",
     "output_type": "stream",
     "text": [
      "\n",
      " value of k is \n",
      " 5\n",
      "mu = 1452.9828246426878, lambda = 649.4632790108164, epsilon = 18.351058959960938, delta = 18.351058959960938\n",
      " Iter | Data \t | Smooth \t | Obj \t\n"
     ]
    },
    {
     "name": "stderr",
     "output_type": "stream",
     "text": [
      "/Users/srahman/opt/anaconda3/lib/python3.7/site-packages/sklearn/metrics/cluster/supervised.py:746: FutureWarning: The behavior of AMI will change in version 0.22. To match the behavior of 'v_measure_score', AMI will use average_method='arithmetic' by default.\n",
      "  FutureWarning)\n"
     ]
    },
    {
     "name": "stdout",
     "output_type": "stream",
     "text": [
      "\n",
      " value of k is \n",
      " 5\n",
      "mu = 1470.8767368381814, lambda = 665.2442125249879, epsilon = 18.275508880615234, delta = 18.275508880615234\n",
      " Iter | Data \t | Smooth \t | Obj \t\n"
     ]
    },
    {
     "name": "stderr",
     "output_type": "stream",
     "text": [
      "/Users/srahman/opt/anaconda3/lib/python3.7/site-packages/sklearn/metrics/cluster/supervised.py:746: FutureWarning: The behavior of AMI will change in version 0.22. To match the behavior of 'v_measure_score', AMI will use average_method='arithmetic' by default.\n",
      "  FutureWarning)\n"
     ]
    },
    {
     "name": "stdout",
     "output_type": "stream",
     "text": [
      "\n",
      " value of k is \n",
      " 5\n",
      "mu = 1454.6677204852567, lambda = 710.9746505631957, epsilon = 17.876293182373047, delta = 17.876293182373047\n",
      " Iter | Data \t | Smooth \t | Obj \t\n"
     ]
    },
    {
     "name": "stderr",
     "output_type": "stream",
     "text": [
      "/Users/srahman/opt/anaconda3/lib/python3.7/site-packages/sklearn/metrics/cluster/supervised.py:746: FutureWarning: The behavior of AMI will change in version 0.22. To match the behavior of 'v_measure_score', AMI will use average_method='arithmetic' by default.\n",
      "  FutureWarning)\n"
     ]
    },
    {
     "name": "stdout",
     "output_type": "stream",
     "text": [
      "\n",
      " value of k is \n",
      " 5\n",
      "mu = 1481.507054192025, lambda = 683.2828048718942, epsilon = 18.50954818725586, delta = 18.50954818725586\n",
      " Iter | Data \t | Smooth \t | Obj \t\n"
     ]
    },
    {
     "name": "stderr",
     "output_type": "stream",
     "text": [
      "/Users/srahman/opt/anaconda3/lib/python3.7/site-packages/sklearn/metrics/cluster/supervised.py:746: FutureWarning: The behavior of AMI will change in version 0.22. To match the behavior of 'v_measure_score', AMI will use average_method='arithmetic' by default.\n",
      "  FutureWarning)\n"
     ]
    },
    {
     "name": "stdout",
     "output_type": "stream",
     "text": [
      "\n",
      " value of k is \n",
      " 5\n",
      "mu = 1448.7157569454866, lambda = 714.1535051571818, epsilon = 18.033824920654297, delta = 18.033824920654297\n",
      " Iter | Data \t | Smooth \t | Obj \t\n"
     ]
    },
    {
     "name": "stderr",
     "output_type": "stream",
     "text": [
      "/Users/srahman/opt/anaconda3/lib/python3.7/site-packages/sklearn/metrics/cluster/supervised.py:746: FutureWarning: The behavior of AMI will change in version 0.22. To match the behavior of 'v_measure_score', AMI will use average_method='arithmetic' by default.\n",
      "  FutureWarning)\n"
     ]
    },
    {
     "name": "stdout",
     "output_type": "stream",
     "text": [
      "\n",
      " value of k is \n",
      " 5\n",
      "mu = 1438.2881483291385, lambda = 691.4186817414096, epsilon = 18.18177604675293, delta = 18.18177604675293\n",
      " Iter | Data \t | Smooth \t | Obj \t\n"
     ]
    },
    {
     "name": "stderr",
     "output_type": "stream",
     "text": [
      "/Users/srahman/opt/anaconda3/lib/python3.7/site-packages/sklearn/metrics/cluster/supervised.py:746: FutureWarning: The behavior of AMI will change in version 0.22. To match the behavior of 'v_measure_score', AMI will use average_method='arithmetic' by default.\n",
      "  FutureWarning)\n"
     ]
    },
    {
     "name": "stdout",
     "output_type": "stream",
     "text": [
      "\n",
      " value of k is \n",
      " 5\n",
      "mu = 1462.4834236383322, lambda = 711.1616494224802, epsilon = 18.23822021484375, delta = 18.23822021484375\n",
      " Iter | Data \t | Smooth \t | Obj \t\n"
     ]
    },
    {
     "name": "stderr",
     "output_type": "stream",
     "text": [
      "/Users/srahman/opt/anaconda3/lib/python3.7/site-packages/sklearn/metrics/cluster/supervised.py:746: FutureWarning: The behavior of AMI will change in version 0.22. To match the behavior of 'v_measure_score', AMI will use average_method='arithmetic' by default.\n",
      "  FutureWarning)\n"
     ]
    },
    {
     "name": "stdout",
     "output_type": "stream",
     "text": [
      "\n",
      " value of k is \n",
      " 5\n",
      "mu = 1525.9543968147336, lambda = 641.1913631576358, epsilon = 18.21265411376953, delta = 18.21265411376953\n",
      " Iter | Data \t | Smooth \t | Obj \t\n"
     ]
    },
    {
     "name": "stderr",
     "output_type": "stream",
     "text": [
      "/Users/srahman/opt/anaconda3/lib/python3.7/site-packages/sklearn/metrics/cluster/supervised.py:746: FutureWarning: The behavior of AMI will change in version 0.22. To match the behavior of 'v_measure_score', AMI will use average_method='arithmetic' by default.\n",
      "  FutureWarning)\n"
     ]
    },
    {
     "name": "stdout",
     "output_type": "stream",
     "text": [
      "\n",
      " value of k is \n",
      " 5\n",
      "mu = 1530.2713636585395, lambda = 715.0911924254975, epsilon = 18.555252075195312, delta = 18.555252075195312\n",
      " Iter | Data \t | Smooth \t | Obj \t\n"
     ]
    },
    {
     "name": "stderr",
     "output_type": "stream",
     "text": [
      "/Users/srahman/opt/anaconda3/lib/python3.7/site-packages/sklearn/metrics/cluster/supervised.py:746: FutureWarning: The behavior of AMI will change in version 0.22. To match the behavior of 'v_measure_score', AMI will use average_method='arithmetic' by default.\n",
      "  FutureWarning)\n"
     ]
    },
    {
     "name": "stdout",
     "output_type": "stream",
     "text": [
      "\n",
      " value of k is \n",
      " 5\n",
      "mu = 1492.1659483609692, lambda = 676.1525460266616, epsilon = 18.53769874572754, delta = 18.53769874572754\n",
      " Iter | Data \t | Smooth \t | Obj \t\n"
     ]
    },
    {
     "name": "stderr",
     "output_type": "stream",
     "text": [
      "/Users/srahman/opt/anaconda3/lib/python3.7/site-packages/sklearn/metrics/cluster/supervised.py:746: FutureWarning: The behavior of AMI will change in version 0.22. To match the behavior of 'v_measure_score', AMI will use average_method='arithmetic' by default.\n",
      "  FutureWarning)\n"
     ]
    },
    {
     "name": "stdout",
     "output_type": "stream",
     "text": [
      "\n",
      " value of k is \n",
      " 5\n",
      "mu = 1466.9007734864244, lambda = 728.6781063831506, epsilon = 17.978158950805664, delta = 17.978158950805664\n",
      " Iter | Data \t | Smooth \t | Obj \t\n"
     ]
    },
    {
     "name": "stderr",
     "output_type": "stream",
     "text": [
      "/Users/srahman/opt/anaconda3/lib/python3.7/site-packages/sklearn/metrics/cluster/supervised.py:746: FutureWarning: The behavior of AMI will change in version 0.22. To match the behavior of 'v_measure_score', AMI will use average_method='arithmetic' by default.\n",
      "  FutureWarning)\n"
     ]
    },
    {
     "name": "stdout",
     "output_type": "stream",
     "text": [
      "\n",
      " value of k is \n",
      " 5\n",
      "mu = 1441.2981659479665, lambda = 593.2836855362339, epsilon = 18.07807731628418, delta = 18.07807731628418\n",
      " Iter | Data \t | Smooth \t | Obj \t\n"
     ]
    },
    {
     "name": "stderr",
     "output_type": "stream",
     "text": [
      "/Users/srahman/opt/anaconda3/lib/python3.7/site-packages/sklearn/metrics/cluster/supervised.py:746: FutureWarning: The behavior of AMI will change in version 0.22. To match the behavior of 'v_measure_score', AMI will use average_method='arithmetic' by default.\n",
      "  FutureWarning)\n"
     ]
    },
    {
     "name": "stdout",
     "output_type": "stream",
     "text": [
      "\n",
      " value of k is \n",
      " 5\n",
      "mu = 1474.4419703837884, lambda = 635.0353476175344, epsilon = 18.305500030517578, delta = 18.305500030517578\n",
      " Iter | Data \t | Smooth \t | Obj \t\n"
     ]
    },
    {
     "name": "stderr",
     "output_type": "stream",
     "text": [
      "/Users/srahman/opt/anaconda3/lib/python3.7/site-packages/sklearn/metrics/cluster/supervised.py:746: FutureWarning: The behavior of AMI will change in version 0.22. To match the behavior of 'v_measure_score', AMI will use average_method='arithmetic' by default.\n",
      "  FutureWarning)\n"
     ]
    },
    {
     "name": "stdout",
     "output_type": "stream",
     "text": [
      "\n",
      " value of k is \n",
      " 5\n",
      "mu = 1440.6387817603973, lambda = 712.8769319703184, epsilon = 18.508663177490234, delta = 18.508663177490234\n",
      " Iter | Data \t | Smooth \t | Obj \t\n"
     ]
    },
    {
     "name": "stderr",
     "output_type": "stream",
     "text": [
      "/Users/srahman/opt/anaconda3/lib/python3.7/site-packages/sklearn/metrics/cluster/supervised.py:746: FutureWarning: The behavior of AMI will change in version 0.22. To match the behavior of 'v_measure_score', AMI will use average_method='arithmetic' by default.\n",
      "  FutureWarning)\n"
     ]
    },
    {
     "name": "stdout",
     "output_type": "stream",
     "text": [
      "\n",
      " value of k is \n",
      " 5\n",
      "mu = 1475.6529145678614, lambda = 651.4906957540423, epsilon = 18.078777313232422, delta = 18.078777313232422\n",
      " Iter | Data \t | Smooth \t | Obj \t\n"
     ]
    },
    {
     "name": "stderr",
     "output_type": "stream",
     "text": [
      "/Users/srahman/opt/anaconda3/lib/python3.7/site-packages/sklearn/metrics/cluster/supervised.py:746: FutureWarning: The behavior of AMI will change in version 0.22. To match the behavior of 'v_measure_score', AMI will use average_method='arithmetic' by default.\n",
      "  FutureWarning)\n"
     ]
    },
    {
     "name": "stdout",
     "output_type": "stream",
     "text": [
      "\n",
      " value of k is \n",
      " 5\n",
      "mu = 1451.4071421329681, lambda = 657.1336248649632, epsilon = 18.38161277770996, delta = 18.38161277770996\n",
      " Iter | Data \t | Smooth \t | Obj \t\n"
     ]
    },
    {
     "name": "stderr",
     "output_type": "stream",
     "text": [
      "/Users/srahman/opt/anaconda3/lib/python3.7/site-packages/sklearn/metrics/cluster/supervised.py:746: FutureWarning: The behavior of AMI will change in version 0.22. To match the behavior of 'v_measure_score', AMI will use average_method='arithmetic' by default.\n",
      "  FutureWarning)\n"
     ]
    },
    {
     "name": "stdout",
     "output_type": "stream",
     "text": [
      "\n",
      " value of k is \n",
      " 5\n",
      "mu = 1460.6111792761367, lambda = 719.9759887462294, epsilon = 18.15267562866211, delta = 18.15267562866211\n",
      " Iter | Data \t | Smooth \t | Obj \t\n"
     ]
    },
    {
     "name": "stderr",
     "output_type": "stream",
     "text": [
      "/Users/srahman/opt/anaconda3/lib/python3.7/site-packages/sklearn/metrics/cluster/supervised.py:746: FutureWarning: The behavior of AMI will change in version 0.22. To match the behavior of 'v_measure_score', AMI will use average_method='arithmetic' by default.\n",
      "  FutureWarning)\n"
     ]
    },
    {
     "name": "stdout",
     "output_type": "stream",
     "text": [
      "\n",
      " value of k is \n",
      " 5\n",
      "mu = 1465.3592927080463, lambda = 675.5497940059304, epsilon = 18.25613021850586, delta = 18.25613021850586\n",
      " Iter | Data \t | Smooth \t | Obj \t\n"
     ]
    },
    {
     "name": "stderr",
     "output_type": "stream",
     "text": [
      "/Users/srahman/opt/anaconda3/lib/python3.7/site-packages/sklearn/metrics/cluster/supervised.py:746: FutureWarning: The behavior of AMI will change in version 0.22. To match the behavior of 'v_measure_score', AMI will use average_method='arithmetic' by default.\n",
      "  FutureWarning)\n"
     ]
    },
    {
     "name": "stdout",
     "output_type": "stream",
     "text": [
      "\n",
      " value of k is \n",
      " 5\n",
      "mu = 1430.5352040192047, lambda = 737.6178543652653, epsilon = 18.218019485473633, delta = 18.218019485473633\n",
      " Iter | Data \t | Smooth \t | Obj \t\n"
     ]
    },
    {
     "name": "stderr",
     "output_type": "stream",
     "text": [
      "/Users/srahman/opt/anaconda3/lib/python3.7/site-packages/sklearn/metrics/cluster/supervised.py:746: FutureWarning: The behavior of AMI will change in version 0.22. To match the behavior of 'v_measure_score', AMI will use average_method='arithmetic' by default.\n",
      "  FutureWarning)\n"
     ]
    },
    {
     "name": "stdout",
     "output_type": "stream",
     "text": [
      "\n",
      " value of k is \n",
      " 5\n",
      "mu = 1440.8815500220953, lambda = 625.3779527687725, epsilon = 18.25, delta = 18.25\n",
      " Iter | Data \t | Smooth \t | Obj \t\n"
     ]
    },
    {
     "name": "stderr",
     "output_type": "stream",
     "text": [
      "/Users/srahman/opt/anaconda3/lib/python3.7/site-packages/sklearn/metrics/cluster/supervised.py:746: FutureWarning: The behavior of AMI will change in version 0.22. To match the behavior of 'v_measure_score', AMI will use average_method='arithmetic' by default.\n",
      "  FutureWarning)\n"
     ]
    },
    {
     "name": "stdout",
     "output_type": "stream",
     "text": [
      "\n",
      " value of k is \n",
      " 5\n",
      "mu = 1453.7893769354669, lambda = 677.4183022450823, epsilon = 18.109357833862305, delta = 18.109357833862305\n",
      " Iter | Data \t | Smooth \t | Obj \t\n"
     ]
    },
    {
     "name": "stderr",
     "output_type": "stream",
     "text": [
      "/Users/srahman/opt/anaconda3/lib/python3.7/site-packages/sklearn/metrics/cluster/supervised.py:746: FutureWarning: The behavior of AMI will change in version 0.22. To match the behavior of 'v_measure_score', AMI will use average_method='arithmetic' by default.\n",
      "  FutureWarning)\n"
     ]
    },
    {
     "name": "stdout",
     "output_type": "stream",
     "text": [
      "\n",
      " value of k is \n",
      " 5\n",
      "mu = 1448.7829042511403, lambda = 716.3896326737853, epsilon = 18.312362670898438, delta = 18.312362670898438\n",
      " Iter | Data \t | Smooth \t | Obj \t\n"
     ]
    },
    {
     "name": "stderr",
     "output_type": "stream",
     "text": [
      "/Users/srahman/opt/anaconda3/lib/python3.7/site-packages/sklearn/metrics/cluster/supervised.py:746: FutureWarning: The behavior of AMI will change in version 0.22. To match the behavior of 'v_measure_score', AMI will use average_method='arithmetic' by default.\n",
      "  FutureWarning)\n"
     ]
    },
    {
     "name": "stdout",
     "output_type": "stream",
     "text": [
      "\n",
      " value of k is \n",
      " 5\n",
      "mu = 1497.3416144477487, lambda = 699.4076986988538, epsilon = 18.431869506835938, delta = 18.431869506835938\n",
      " Iter | Data \t | Smooth \t | Obj \t\n"
     ]
    },
    {
     "name": "stderr",
     "output_type": "stream",
     "text": [
      "/Users/srahman/opt/anaconda3/lib/python3.7/site-packages/sklearn/metrics/cluster/supervised.py:746: FutureWarning: The behavior of AMI will change in version 0.22. To match the behavior of 'v_measure_score', AMI will use average_method='arithmetic' by default.\n",
      "  FutureWarning)\n"
     ]
    },
    {
     "name": "stdout",
     "output_type": "stream",
     "text": [
      "\n",
      " value of k is \n",
      " 5\n",
      "mu = 1508.9351189810368, lambda = 682.7253265834427, epsilon = 18.22711181640625, delta = 18.22711181640625\n",
      " Iter | Data \t | Smooth \t | Obj \t\n"
     ]
    },
    {
     "name": "stderr",
     "output_type": "stream",
     "text": [
      "/Users/srahman/opt/anaconda3/lib/python3.7/site-packages/sklearn/metrics/cluster/supervised.py:746: FutureWarning: The behavior of AMI will change in version 0.22. To match the behavior of 'v_measure_score', AMI will use average_method='arithmetic' by default.\n",
      "  FutureWarning)\n"
     ]
    },
    {
     "name": "stdout",
     "output_type": "stream",
     "text": [
      "\n",
      " value of k is \n",
      " 5\n",
      "mu = 1451.5954337632975, lambda = 692.4220233871944, epsilon = 18.10941505432129, delta = 18.10941505432129\n",
      " Iter | Data \t | Smooth \t | Obj \t\n"
     ]
    },
    {
     "name": "stderr",
     "output_type": "stream",
     "text": [
      "/Users/srahman/opt/anaconda3/lib/python3.7/site-packages/sklearn/metrics/cluster/supervised.py:746: FutureWarning: The behavior of AMI will change in version 0.22. To match the behavior of 'v_measure_score', AMI will use average_method='arithmetic' by default.\n",
      "  FutureWarning)\n"
     ]
    },
    {
     "name": "stdout",
     "output_type": "stream",
     "text": [
      "\n",
      " value of k is \n",
      " 5\n",
      "mu = 1447.2127689110785, lambda = 720.121036882453, epsilon = 18.37125015258789, delta = 18.37125015258789\n",
      " Iter | Data \t | Smooth \t | Obj \t\n"
     ]
    },
    {
     "name": "stderr",
     "output_type": "stream",
     "text": [
      "/Users/srahman/opt/anaconda3/lib/python3.7/site-packages/sklearn/metrics/cluster/supervised.py:746: FutureWarning: The behavior of AMI will change in version 0.22. To match the behavior of 'v_measure_score', AMI will use average_method='arithmetic' by default.\n",
      "  FutureWarning)\n"
     ]
    },
    {
     "name": "stdout",
     "output_type": "stream",
     "text": [
      "\n",
      " value of k is \n",
      " 5\n",
      "mu = 1409.5604007828042, lambda = 715.5355233873871, epsilon = 18.511592864990234, delta = 18.511592864990234\n",
      " Iter | Data \t | Smooth \t | Obj \t\n"
     ]
    },
    {
     "name": "stderr",
     "output_type": "stream",
     "text": [
      "/Users/srahman/opt/anaconda3/lib/python3.7/site-packages/sklearn/metrics/cluster/supervised.py:746: FutureWarning: The behavior of AMI will change in version 0.22. To match the behavior of 'v_measure_score', AMI will use average_method='arithmetic' by default.\n",
      "  FutureWarning)\n"
     ]
    },
    {
     "name": "stdout",
     "output_type": "stream",
     "text": [
      "\n",
      " value of k is \n",
      " 5\n",
      "mu = 1422.2654333366772, lambda = 714.542989131262, epsilon = 18.527904510498047, delta = 18.527904510498047\n",
      " Iter | Data \t | Smooth \t | Obj \t\n"
     ]
    },
    {
     "name": "stderr",
     "output_type": "stream",
     "text": [
      "/Users/srahman/opt/anaconda3/lib/python3.7/site-packages/sklearn/metrics/cluster/supervised.py:746: FutureWarning: The behavior of AMI will change in version 0.22. To match the behavior of 'v_measure_score', AMI will use average_method='arithmetic' by default.\n",
      "  FutureWarning)\n"
     ]
    },
    {
     "name": "stdout",
     "output_type": "stream",
     "text": [
      "\n",
      " value of k is \n",
      " 5\n",
      "mu = 1494.3423095861654, lambda = 704.0676372809862, epsilon = 18.614410400390625, delta = 18.614410400390625\n",
      " Iter | Data \t | Smooth \t | Obj \t\n"
     ]
    },
    {
     "name": "stderr",
     "output_type": "stream",
     "text": [
      "/Users/srahman/opt/anaconda3/lib/python3.7/site-packages/sklearn/metrics/cluster/supervised.py:746: FutureWarning: The behavior of AMI will change in version 0.22. To match the behavior of 'v_measure_score', AMI will use average_method='arithmetic' by default.\n",
      "  FutureWarning)\n"
     ]
    },
    {
     "name": "stdout",
     "output_type": "stream",
     "text": [
      "\n",
      " value of k is \n",
      " 5\n",
      "mu = 1463.3808182559842, lambda = 638.3706883938003, epsilon = 18.588172912597656, delta = 18.588172912597656\n",
      " Iter | Data \t | Smooth \t | Obj \t\n"
     ]
    },
    {
     "name": "stderr",
     "output_type": "stream",
     "text": [
      "/Users/srahman/opt/anaconda3/lib/python3.7/site-packages/sklearn/metrics/cluster/supervised.py:746: FutureWarning: The behavior of AMI will change in version 0.22. To match the behavior of 'v_measure_score', AMI will use average_method='arithmetic' by default.\n",
      "  FutureWarning)\n"
     ]
    },
    {
     "name": "stdout",
     "output_type": "stream",
     "text": [
      "\n",
      " value of k is \n",
      " 5\n",
      "mu = 1516.1975245388276, lambda = 690.3941730818503, epsilon = 18.516666412353516, delta = 18.516666412353516\n",
      " Iter | Data \t | Smooth \t | Obj \t\n"
     ]
    },
    {
     "name": "stderr",
     "output_type": "stream",
     "text": [
      "/Users/srahman/opt/anaconda3/lib/python3.7/site-packages/sklearn/metrics/cluster/supervised.py:746: FutureWarning: The behavior of AMI will change in version 0.22. To match the behavior of 'v_measure_score', AMI will use average_method='arithmetic' by default.\n",
      "  FutureWarning)\n"
     ]
    },
    {
     "name": "stdout",
     "output_type": "stream",
     "text": [
      "\n",
      " value of k is \n",
      " 5\n",
      "mu = 1488.4021721446625, lambda = 682.7080699708528, epsilon = 18.45836067199707, delta = 18.45836067199707\n",
      " Iter | Data \t | Smooth \t | Obj \t\n"
     ]
    },
    {
     "name": "stderr",
     "output_type": "stream",
     "text": [
      "/Users/srahman/opt/anaconda3/lib/python3.7/site-packages/sklearn/metrics/cluster/supervised.py:746: FutureWarning: The behavior of AMI will change in version 0.22. To match the behavior of 'v_measure_score', AMI will use average_method='arithmetic' by default.\n",
      "  FutureWarning)\n"
     ]
    }
   ],
   "source": [
    "labels_true = np.concatenate((np.ones(20), 2*np.ones(20), 3*np.ones(200), 4*np.ones(200)), axis=None)\n",
    "#labels_true = np.concatenate((np.ones(20), 2*np.ones(20), 3*np.ones(20), 4*np.ones(20)), axis=None)\n",
    "\n",
    "K = ami = []\n",
    "\n",
    "for filename in glob.glob('sim_h_l_un/*.csv'):\n",
    "    data  = pd.read_csv(filename)\n",
    "    X     = data.to_numpy()\n",
    "    model = RccCluster(k = 5, clustering_threshold = 1)\n",
    "    model.fit(X)\n",
    "    labels_pred = model.labels_\n",
    "    K           =   np.concatenate((K,len(np.unique(labels_pred))), axis = None)\n",
    "    ami         =   np.concatenate((ami, adjusted_mutual_info_score(labels_true, labels_pred)), axis = None)  "
   ]
  },
  {
   "cell_type": "code",
   "execution_count": 48,
   "metadata": {},
   "outputs": [
    {
     "data": {
      "text/plain": [
       "[8.0, 1.0087616170334792, 0.46025082922874017, 0.034918499557571425]"
      ]
     },
     "execution_count": 48,
     "metadata": {},
     "output_type": "execute_result"
    }
   ],
   "source": [
    "[np.median(K), np.std(K), np.median(ami), np.std(ami)]"
   ]
  },
  {
   "cell_type": "code",
   "execution_count": 2,
   "metadata": {},
   "outputs": [
    {
     "data": {
      "image/png": "[encoded data removed]",
      "text/plain": [
       "<Figure size 432x288 with 1 Axes>"
      ]
     },
     "metadata": {
      "needs_background": "light"
     },
     "output_type": "display_data"
    },
    {
     "name": "stdout",
     "output_type": "stream",
     "text": [
      "\n",
      " value of k is \n",
      " 10\n",
      "mu = 6.962343549594323, lambda = 26.019251894160867, epsilon = 0.025791896507143974, delta = 0.025791896507143974\n",
      " Iter | Data \t | Smooth \t | Obj \t\n",
      "'\n",
      "' Adjusted_Rand_Index '\n",
      "' 0.988024012072048\n",
      "\n",
      " col_0    0    1\n",
      "row_0          \n",
      "0        1  498\n",
      "1      499    2\n"
     ]
    },
    {
     "data": {
      "image/png": "[encoded data removed]",
      "text/plain": [
       "<Figure size 432x288 with 1 Axes>"
      ]
     },
     "metadata": {
      "needs_background": "light"
     },
     "output_type": "display_data"
    }
   ],
   "source": [
    "# define dataset\n",
    "D, labels_true = make_classification(n_samples=1000, n_features=400, n_informative=250, n_classes=2,\n",
    "                                     n_redundant=100, class_sep=12.0, n_clusters_per_class=1, random_state=1)\n",
    "\n",
    "plt.scatter(D[:, 0], D[:, 1])\n",
    "plt.show()\n",
    "\n",
    "#PCA Starts\n",
    "D = StandardScaler().fit_transform(D)\n",
    "#plt.scatter(D[:, 0], D[:, 1])\n",
    "#plt.show()\n",
    "\n",
    "pca = PCA(n_components=2)\n",
    "principalComponents = pca.fit_transform(D)\n",
    "X = pd.DataFrame(data = principalComponents, columns = ['principal component 1', 'principal component 2'])\n",
    "\n",
    "X = X.to_numpy()\n",
    "#plt.scatter(X[:, 0], X[:, 1])\n",
    "#plt.show()\n",
    "#PCA Ends\n",
    "\n",
    "\n",
    "model = RccCluster(clustering_threshold=100)\n",
    "model.fit(X)\n",
    "\n",
    "labels_pred = model.labels_\n",
    "#print(\"True Label:\", labels_true, \"Lable pred:\", labels_pred, pred_y, sep='\\n\\n')\n",
    "\n",
    "ari = metrics.adjusted_rand_score(labels_true, labels_pred)\n",
    "print(\"'\\n' Adjusted_Rand_Index '\\n'\", ari)\n",
    "\n",
    "#print(\"'\\n' Unique no. of labels '\\n'\", unique(labels_pred))\n",
    "\n",
    "print('\\n', pd.crosstab(labels_true,labels_pred))\n",
    "\n",
    "# retrieve unique clusters\n",
    "clusters = unique(labels_pred)\n",
    "# create scatter plot for samples from each cluster\n",
    "for cluster in clusters:\n",
    "\t# get row indexes for samples with this cluster\n",
    "\trow_ix = where(labels_pred == cluster)\n",
    "\t# create scatter of these samples\n",
    "\tplt.scatter(X[row_ix, 0], X[row_ix, 1])\n",
    "# show the plot\n",
    "#plt.scatter(model.cluster_centers_[:, 0], model.cluster_centers_[:, 1], s=300, c='yellow')\n",
    "plt.show()\n"
   ]
  }
 ],
 "metadata": {
  "kernelspec": {
   "display_name": "Python 3",
   "language": "python",
   "name": "python3"
  },
  "language_info": {
   "codemirror_mode": {
    "name": "ipython",
    "version": 3
   },
   "file_extension": ".py",
   "mimetype": "text/x-python",
   "name": "python",
   "nbconvert_exporter": "python",
   "pygments_lexer": "ipython3",
   "version": "3.7.4"
  }
 },
 "nbformat": 4,
 "nbformat_minor": 2
}
